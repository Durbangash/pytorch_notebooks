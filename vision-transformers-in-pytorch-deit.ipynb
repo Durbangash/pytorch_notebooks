{
 "cells": [
  {
   "cell_type": "markdown",
   "id": "a0167275",
   "metadata": {
    "execution": {
     "iopub.execute_input": "2023-02-09T16:28:37.160850Z",
     "iopub.status.busy": "2023-02-09T16:28:37.160499Z",
     "iopub.status.idle": "2023-02-09T16:28:37.168322Z",
     "shell.execute_reply": "2023-02-09T16:28:37.166922Z",
     "shell.execute_reply.started": "2023-02-09T16:28:37.160818Z"
    },
    "papermill": {
     "duration": 0.023545,
     "end_time": "2023-02-27T15:59:06.931533",
     "exception": false,
     "start_time": "2023-02-27T15:59:06.907988",
     "status": "completed"
    },
    "tags": []
   },
   "source": [
    "##### Vision Transformers\n",
    "\n",
    "This notebook trains a  Vision Transformer on the Butterfly dataset.\n",
    "\n",
    "Code for the following video:\n",
    "https://youtu.be/0tjuRnkFHKg"
   ]
  },
  {
   "cell_type": "code",
   "execution_count": 1,
   "id": "857193c3",
   "metadata": {
    "_cell_guid": "b1076dfc-b9ad-4769-8c92-a6c4dae69d19",
    "_uuid": "8f2839f25d086af736a60e9eeb907d3b93b6e0e5",
    "execution": {
     "iopub.execute_input": "2023-02-27T15:59:07.000049Z",
     "iopub.status.busy": "2023-02-27T15:59:06.991355Z",
     "iopub.status.idle": "2023-02-27T15:59:07.006066Z",
     "shell.execute_reply": "2023-02-27T15:59:07.004914Z",
     "shell.execute_reply.started": "2023-02-27T15:39:33.351776Z"
    },
    "papermill": {
     "duration": 0.043535,
     "end_time": "2023-02-27T15:59:07.006218",
     "exception": false,
     "start_time": "2023-02-27T15:59:06.962683",
     "status": "completed"
    },
    "tags": []
   },
   "outputs": [],
   "source": [
    "import numpy as np # linear algebra\n",
    "import pandas as pd # data processing, CSV file I/O (e.g. pd.read_csv)\n",
    "import os"
   ]
  },
  {
   "cell_type": "code",
   "execution_count": 2,
   "id": "937ad218",
   "metadata": {
    "execution": {
     "iopub.execute_input": "2023-02-27T15:59:07.056052Z",
     "iopub.status.busy": "2023-02-27T15:59:07.055322Z",
     "iopub.status.idle": "2023-02-27T15:59:09.110108Z",
     "shell.execute_reply": "2023-02-27T15:59:09.109617Z",
     "shell.execute_reply.started": "2023-02-27T15:40:06.694387Z"
    },
    "papermill": {
     "duration": 2.080205,
     "end_time": "2023-02-27T15:59:09.110243",
     "exception": false,
     "start_time": "2023-02-27T15:59:07.030038",
     "status": "completed"
    },
    "tags": []
   },
   "outputs": [],
   "source": [
    "import torch\n",
    "import torchvision\n",
    "from torchvision import datasets\n",
    "from torchvision import transforms as T # for simplifying the transforms\n",
    "from torch import nn, optim\n",
    "from torch.nn import functional as F\n",
    "from torch.utils.data import DataLoader, sampler, random_split\n",
    "from torchvision import models\n"
   ]
  },
  {
   "cell_type": "code",
   "execution_count": 3,
   "id": "22d8b057",
   "metadata": {
    "execution": {
     "iopub.execute_input": "2023-02-27T15:59:09.149495Z",
     "iopub.status.busy": "2023-02-27T15:59:09.148561Z",
     "iopub.status.idle": "2023-02-27T15:59:19.786627Z",
     "shell.execute_reply": "2023-02-27T15:59:19.786118Z",
     "shell.execute_reply.started": "2023-02-27T15:40:15.890365Z"
    },
    "papermill": {
     "duration": 10.659732,
     "end_time": "2023-02-27T15:59:19.786783",
     "exception": false,
     "start_time": "2023-02-27T15:59:09.127051",
     "status": "completed"
    },
    "tags": []
   },
   "outputs": [
    {
     "name": "stdout",
     "output_type": "stream",
     "text": [
      "Collecting timm\r\n",
      "  Downloading timm-0.6.12-py3-none-any.whl (549 kB)\r\n",
      "     |████████████████████████████████| 549 kB 901 kB/s            \r\n",
      "\u001b[?25hRequirement already satisfied: torch>=1.7 in /opt/conda/lib/python3.7/site-packages (from timm) (1.9.1)\r\n",
      "Requirement already satisfied: torchvision in /opt/conda/lib/python3.7/site-packages (from timm) (0.10.1)\r\n",
      "Requirement already satisfied: pyyaml in /opt/conda/lib/python3.7/site-packages (from timm) (6.0)\r\n",
      "Requirement already satisfied: huggingface-hub in /opt/conda/lib/python3.7/site-packages (from timm) (0.1.2)\r\n",
      "Requirement already satisfied: typing-extensions in /opt/conda/lib/python3.7/site-packages (from torch>=1.7->timm) (3.10.0.2)\r\n",
      "Requirement already satisfied: packaging>=20.9 in /opt/conda/lib/python3.7/site-packages (from huggingface-hub->timm) (21.0)\r\n",
      "Requirement already satisfied: filelock in /opt/conda/lib/python3.7/site-packages (from huggingface-hub->timm) (3.3.2)\r\n",
      "Requirement already satisfied: tqdm in /opt/conda/lib/python3.7/site-packages (from huggingface-hub->timm) (4.62.3)\r\n",
      "Requirement already satisfied: requests in /opt/conda/lib/python3.7/site-packages (from huggingface-hub->timm) (2.25.1)\r\n",
      "Requirement already satisfied: importlib-metadata in /opt/conda/lib/python3.7/site-packages (from huggingface-hub->timm) (4.8.2)\r\n",
      "Requirement already satisfied: numpy in /opt/conda/lib/python3.7/site-packages (from torchvision->timm) (1.19.5)\r\n",
      "Requirement already satisfied: pillow>=5.3.0 in /opt/conda/lib/python3.7/site-packages (from torchvision->timm) (8.2.0)\r\n",
      "Requirement already satisfied: pyparsing>=2.0.2 in /opt/conda/lib/python3.7/site-packages (from packaging>=20.9->huggingface-hub->timm) (3.0.6)\r\n",
      "Requirement already satisfied: zipp>=0.5 in /opt/conda/lib/python3.7/site-packages (from importlib-metadata->huggingface-hub->timm) (3.6.0)\r\n",
      "Requirement already satisfied: certifi>=2017.4.17 in /opt/conda/lib/python3.7/site-packages (from requests->huggingface-hub->timm) (2021.10.8)\r\n",
      "Requirement already satisfied: idna<3,>=2.5 in /opt/conda/lib/python3.7/site-packages (from requests->huggingface-hub->timm) (2.10)\r\n",
      "Requirement already satisfied: urllib3<1.27,>=1.21.1 in /opt/conda/lib/python3.7/site-packages (from requests->huggingface-hub->timm) (1.26.7)\r\n",
      "Requirement already satisfied: chardet<5,>=3.0.2 in /opt/conda/lib/python3.7/site-packages (from requests->huggingface-hub->timm) (4.0.0)\r\n",
      "Installing collected packages: timm\r\n",
      "Successfully installed timm-0.6.12\r\n",
      "\u001b[33mWARNING: Running pip as the 'root' user can result in broken permissions and conflicting behaviour with the system package manager. It is recommended to use a virtual environment instead: https://pip.pypa.io/warnings/venv\u001b[0m\r\n"
     ]
    }
   ],
   "source": [
    "## Now, we import timm, torchvision image models\n",
    "!pip install timm # kaggle doesnt have it installed by default\n",
    "import timm\n",
    "from timm.loss import LabelSmoothingCrossEntropy # This is better than normal nn.CrossEntropyLoss\n",
    "import timm.optim\n",
    "from timm.scheduler import CosineLRScheduler"
   ]
  },
  {
   "cell_type": "code",
   "execution_count": 4,
   "id": "7c0d8c1f",
   "metadata": {
    "execution": {
     "iopub.execute_input": "2023-02-27T15:59:19.831259Z",
     "iopub.status.busy": "2023-02-27T15:59:19.829665Z",
     "iopub.status.idle": "2023-02-27T15:59:19.831900Z",
     "shell.execute_reply": "2023-02-27T15:59:19.832299Z",
     "shell.execute_reply.started": "2023-02-27T15:40:30.221699Z"
    },
    "papermill": {
     "duration": 0.02547,
     "end_time": "2023-02-27T15:59:19.832451",
     "exception": false,
     "start_time": "2023-02-27T15:59:19.806981",
     "status": "completed"
    },
    "tags": []
   },
   "outputs": [],
   "source": [
    "# remove warnings\n",
    "import warnings\n",
    "warnings.filterwarnings(\"ignore\")"
   ]
  },
  {
   "cell_type": "code",
   "execution_count": 5,
   "id": "105c3bc0",
   "metadata": {
    "execution": {
     "iopub.execute_input": "2023-02-27T15:59:19.875198Z",
     "iopub.status.busy": "2023-02-27T15:59:19.874467Z",
     "iopub.status.idle": "2023-02-27T15:59:19.876509Z",
     "shell.execute_reply": "2023-02-27T15:59:19.876897Z",
     "shell.execute_reply.started": "2023-02-27T15:40:32.049755Z"
    },
    "papermill": {
     "duration": 0.025859,
     "end_time": "2023-02-27T15:59:19.877024",
     "exception": false,
     "start_time": "2023-02-27T15:59:19.851165",
     "status": "completed"
    },
    "tags": []
   },
   "outputs": [],
   "source": [
    "import matplotlib.pyplot as plt\n",
    "%matplotlib inline"
   ]
  },
  {
   "cell_type": "code",
   "execution_count": 6,
   "id": "208fcf1f",
   "metadata": {
    "execution": {
     "iopub.execute_input": "2023-02-27T15:59:19.918168Z",
     "iopub.status.busy": "2023-02-27T15:59:19.917543Z",
     "iopub.status.idle": "2023-02-27T15:59:19.919849Z",
     "shell.execute_reply": "2023-02-27T15:59:19.920216Z",
     "shell.execute_reply.started": "2023-02-27T15:40:33.996600Z"
    },
    "papermill": {
     "duration": 0.024608,
     "end_time": "2023-02-27T15:59:19.920340",
     "exception": false,
     "start_time": "2023-02-27T15:59:19.895732",
     "status": "completed"
    },
    "tags": []
   },
   "outputs": [],
   "source": [
    "import sys\n",
    "from tqdm import tqdm\n",
    "import time\n",
    "import copy"
   ]
  },
  {
   "cell_type": "code",
   "execution_count": 7,
   "id": "864e93fa",
   "metadata": {
    "execution": {
     "iopub.execute_input": "2023-02-27T15:59:19.962299Z",
     "iopub.status.busy": "2023-02-27T15:59:19.961756Z",
     "iopub.status.idle": "2023-02-27T15:59:19.965392Z",
     "shell.execute_reply": "2023-02-27T15:59:19.964985Z",
     "shell.execute_reply.started": "2023-02-27T15:40:35.512318Z"
    },
    "papermill": {
     "duration": 0.026513,
     "end_time": "2023-02-27T15:59:19.965528",
     "exception": false,
     "start_time": "2023-02-27T15:59:19.939015",
     "status": "completed"
    },
    "tags": []
   },
   "outputs": [],
   "source": [
    "def get_classes(data_dir):\n",
    "    all_data = datasets.ImageFolder(data_dir)\n",
    "    return all_data.classes"
   ]
  },
  {
   "cell_type": "code",
   "execution_count": 8,
   "id": "0036f0bd",
   "metadata": {
    "execution": {
     "iopub.execute_input": "2023-02-27T15:59:20.011796Z",
     "iopub.status.busy": "2023-02-27T15:59:20.011216Z",
     "iopub.status.idle": "2023-02-27T15:59:20.014424Z",
     "shell.execute_reply": "2023-02-27T15:59:20.013936Z",
     "shell.execute_reply.started": "2023-02-27T15:40:39.964367Z"
    },
    "papermill": {
     "duration": 0.030342,
     "end_time": "2023-02-27T15:59:20.014539",
     "exception": false,
     "start_time": "2023-02-27T15:59:19.984197",
     "status": "completed"
    },
    "tags": []
   },
   "outputs": [],
   "source": [
    "def get_data_loaders(data_dir, batch_size, train = False):\n",
    "    if train:\n",
    "        #train\n",
    "        transform = T.Compose([\n",
    "            T.RandomHorizontalFlip(),\n",
    "            T.RandomVerticalFlip(),\n",
    "            T.RandomApply(torch.nn.ModuleList([T.ColorJitter()]), p=0.25),\n",
    "            T.Resize(256),\n",
    "            T.CenterCrop(224),\n",
    "            T.ToTensor(),\n",
    "            T.Normalize((0.485, 0.456, 0.406), (0.229, 0.224, 0.225)), # imagenet means\n",
    "            T.RandomErasing(p=0.2, value='random')\n",
    "        ])\n",
    "        train_data = datasets.ImageFolder(os.path.join(data_dir, \"train/\"), transform = transform)\n",
    "        train_loader = DataLoader(train_data, batch_size=batch_size, shuffle=True, num_workers=4)\n",
    "        return train_loader, len(train_data)\n",
    "    else:\n",
    "        # val/test\n",
    "        transform = T.Compose([ # We dont need augmentation for test transforms\n",
    "            T.Resize(256),\n",
    "            T.CenterCrop(224),\n",
    "            T.ToTensor(),\n",
    "            T.Normalize((0.485, 0.456, 0.406), (0.229, 0.224, 0.225)), # imagenet means\n",
    "        ])\n",
    "        val_data = datasets.ImageFolder(os.path.join(data_dir, \"valid/\"), transform=transform)\n",
    "        test_data = datasets.ImageFolder(os.path.join(data_dir, \"test/\"), transform=transform)\n",
    "        val_loader = DataLoader(val_data, batch_size=batch_size, shuffle=True, num_workers=4)\n",
    "        test_loader = DataLoader(test_data, batch_size=batch_size, shuffle=True, num_workers=4)\n",
    "        return val_loader, test_loader, len(val_data), len(test_data)"
   ]
  },
  {
   "cell_type": "code",
   "execution_count": 9,
   "id": "e47b3c5e",
   "metadata": {
    "execution": {
     "iopub.execute_input": "2023-02-27T15:59:20.055959Z",
     "iopub.status.busy": "2023-02-27T15:59:20.055300Z",
     "iopub.status.idle": "2023-02-27T15:59:20.058607Z",
     "shell.execute_reply": "2023-02-27T15:59:20.058145Z",
     "shell.execute_reply.started": "2023-02-27T15:40:43.832168Z"
    },
    "papermill": {
     "duration": 0.025423,
     "end_time": "2023-02-27T15:59:20.058716",
     "exception": false,
     "start_time": "2023-02-27T15:59:20.033293",
     "status": "completed"
    },
    "tags": []
   },
   "outputs": [],
   "source": [
    "dataset_path = \"/kaggle/input/butterfly-images40-species/\""
   ]
  },
  {
   "cell_type": "code",
   "execution_count": 10,
   "id": "de019511",
   "metadata": {
    "execution": {
     "iopub.execute_input": "2023-02-27T15:59:20.101292Z",
     "iopub.status.busy": "2023-02-27T15:59:20.100762Z",
     "iopub.status.idle": "2023-02-27T15:59:23.061470Z",
     "shell.execute_reply": "2023-02-27T15:59:23.060945Z",
     "shell.execute_reply.started": "2023-02-27T15:40:45.890335Z"
    },
    "papermill": {
     "duration": 2.98414,
     "end_time": "2023-02-27T15:59:23.061615",
     "exception": false,
     "start_time": "2023-02-27T15:59:20.077475",
     "status": "completed"
    },
    "tags": []
   },
   "outputs": [],
   "source": [
    "(train_loader, train_data_len) = get_data_loaders(dataset_path, 128, train=True)\n",
    "(val_loader, test_loader, valid_data_len, test_data_len) = get_data_loaders(dataset_path, 32, train=False)"
   ]
  },
  {
   "cell_type": "code",
   "execution_count": 11,
   "id": "446f3dc6",
   "metadata": {
    "execution": {
     "iopub.execute_input": "2023-02-27T15:59:23.104725Z",
     "iopub.status.busy": "2023-02-27T15:59:23.103994Z",
     "iopub.status.idle": "2023-02-27T15:59:23.239765Z",
     "shell.execute_reply": "2023-02-27T15:59:23.240289Z",
     "shell.execute_reply.started": "2023-02-27T15:41:02.988824Z"
    },
    "papermill": {
     "duration": 0.159542,
     "end_time": "2023-02-27T15:59:23.240470",
     "exception": false,
     "start_time": "2023-02-27T15:59:23.080928",
     "status": "completed"
    },
    "tags": []
   },
   "outputs": [
    {
     "name": "stdout",
     "output_type": "stream",
     "text": [
      "['ADONIS', 'AFRICAN GIANT SWALLOWTAIL', 'AMERICAN SNOOT', 'AN 88', 'APPOLLO', 'ARCIGERA FLOWER MOTH', 'ATALA', 'ATLAS MOTH', 'BANDED ORANGE HELICONIAN', 'BANDED PEACOCK', 'BANDED TIGER MOTH', 'BECKERS WHITE', 'BIRD CHERRY ERMINE MOTH', 'BLACK HAIRSTREAK', 'BLUE MORPHO', 'BLUE SPOTTED CROW', 'BROOKES BIRDWING', 'BROWN ARGUS', 'BROWN SIPROETA', 'CABBAGE WHITE', 'CAIRNS BIRDWING', 'CHALK HILL BLUE', 'CHECQUERED SKIPPER', 'CHESTNUT', 'CINNABAR MOTH', 'CLEARWING MOTH', 'CLEOPATRA', 'CLODIUS PARNASSIAN', 'CLOUDED SULPHUR', 'COMET MOTH', 'COMMON BANDED AWL', 'COMMON WOOD-NYMPH', 'COPPER TAIL', 'CRECENT', 'CRIMSON PATCH', 'DANAID EGGFLY', 'EASTERN COMA', 'EASTERN DAPPLE WHITE', 'EASTERN PINE ELFIN', 'ELBOWED PIERROT', 'EMPEROR GUM MOTH', 'GARDEN TIGER MOTH', 'GIANT LEOPARD MOTH', 'GLITTERING SAPPHIRE', 'GOLD BANDED', 'GREAT EGGFLY', 'GREAT JAY', 'GREEN CELLED CATTLEHEART', 'GREEN HAIRSTREAK', 'GREY HAIRSTREAK', 'HERCULES MOTH', 'HUMMING BIRD HAWK MOTH', 'INDRA SWALLOW', 'IO MOTH', 'Iphiclus sister', 'JULIA', 'LARGE MARBLE', 'LUNA MOTH', 'MADAGASCAN SUNSET MOTH', 'MALACHITE', 'MANGROVE SKIPPER', 'MESTRA', 'METALMARK', 'MILBERTS TORTOISESHELL', 'MONARCH', 'MOURNING CLOAK', 'OLEANDER HAWK MOTH', 'ORANGE OAKLEAF', 'ORANGE TIP', 'ORCHARD SWALLOW', 'PAINTED LADY', 'PAPER KITE', 'PEACOCK', 'PINE WHITE', 'PIPEVINE SWALLOW', 'POLYPHEMUS MOTH', 'POPINJAY', 'PURPLE HAIRSTREAK', 'PURPLISH COPPER', 'QUESTION MARK', 'RED ADMIRAL', 'RED CRACKER', 'RED POSTMAN', 'RED SPOTTED PURPLE', 'ROSY MAPLE MOTH', 'SCARCE SWALLOW', 'SILVER SPOT SKIPPER', 'SIXSPOT BURNET MOTH', 'SLEEPY ORANGE', 'SOOTYWING', 'SOUTHERN DOGFACE', 'STRAITED QUEEN', 'TROPICAL LEAFWING', 'TWO BARRED FLASHER', 'ULYSES', 'VICEROY', 'WHITE LINED SPHINX MOTH', 'WOOD SATYR', 'YELLOW SWALLOW TAIL', 'ZEBRA LONG WING'] 100\n"
     ]
    }
   ],
   "source": [
    "classes = get_classes(\"/kaggle/input/butterfly-images40-species/train/\")\n",
    "print(classes, len(classes))"
   ]
  },
  {
   "cell_type": "code",
   "execution_count": 12,
   "id": "65329583",
   "metadata": {
    "execution": {
     "iopub.execute_input": "2023-02-27T15:59:23.284836Z",
     "iopub.status.busy": "2023-02-27T15:59:23.283903Z",
     "iopub.status.idle": "2023-02-27T15:59:23.285940Z",
     "shell.execute_reply": "2023-02-27T15:59:23.286365Z",
     "shell.execute_reply.started": "2023-02-27T15:41:04.981962Z"
    },
    "papermill": {
     "duration": 0.026626,
     "end_time": "2023-02-27T15:59:23.286526",
     "exception": false,
     "start_time": "2023-02-27T15:59:23.259900",
     "status": "completed"
    },
    "tags": []
   },
   "outputs": [],
   "source": [
    "dataloaders = {\n",
    "    \"train\": train_loader,\n",
    "    \"val\": val_loader\n",
    "}\n",
    "dataset_sizes = {\n",
    "    \"train\": train_data_len,\n",
    "    \"val\": valid_data_len\n",
    "}"
   ]
  },
  {
   "cell_type": "code",
   "execution_count": 13,
   "id": "af56e29e",
   "metadata": {
    "execution": {
     "iopub.execute_input": "2023-02-27T15:59:23.332474Z",
     "iopub.status.busy": "2023-02-27T15:59:23.331800Z",
     "iopub.status.idle": "2023-02-27T15:59:23.334552Z",
     "shell.execute_reply": "2023-02-27T15:59:23.334970Z",
     "shell.execute_reply.started": "2023-02-27T15:41:08.040279Z"
    },
    "papermill": {
     "duration": 0.027597,
     "end_time": "2023-02-27T15:59:23.335106",
     "exception": false,
     "start_time": "2023-02-27T15:59:23.307509",
     "status": "completed"
    },
    "tags": []
   },
   "outputs": [
    {
     "name": "stdout",
     "output_type": "stream",
     "text": [
      "99 16 16\n"
     ]
    }
   ],
   "source": [
    "print(len(train_loader), len(val_loader), len(test_loader))"
   ]
  },
  {
   "cell_type": "code",
   "execution_count": 14,
   "id": "e4e52592",
   "metadata": {
    "execution": {
     "iopub.execute_input": "2023-02-27T15:59:23.379820Z",
     "iopub.status.busy": "2023-02-27T15:59:23.379028Z",
     "iopub.status.idle": "2023-02-27T15:59:23.383012Z",
     "shell.execute_reply": "2023-02-27T15:59:23.382527Z",
     "shell.execute_reply.started": "2023-02-27T15:41:10.258163Z"
    },
    "papermill": {
     "duration": 0.02849,
     "end_time": "2023-02-27T15:59:23.383124",
     "exception": false,
     "start_time": "2023-02-27T15:59:23.354634",
     "status": "completed"
    },
    "tags": []
   },
   "outputs": [
    {
     "name": "stdout",
     "output_type": "stream",
     "text": [
      "12639 500 500\n"
     ]
    }
   ],
   "source": [
    "print(train_data_len, valid_data_len, test_data_len)"
   ]
  },
  {
   "cell_type": "code",
   "execution_count": 15,
   "id": "90f0666b",
   "metadata": {
    "execution": {
     "iopub.execute_input": "2023-02-27T15:59:23.495749Z",
     "iopub.status.busy": "2023-02-27T15:59:23.491756Z",
     "iopub.status.idle": "2023-02-27T15:59:23.498926Z",
     "shell.execute_reply": "2023-02-27T15:59:23.499361Z",
     "shell.execute_reply.started": "2023-02-27T15:41:12.290518Z"
    },
    "papermill": {
     "duration": 0.096474,
     "end_time": "2023-02-27T15:59:23.499530",
     "exception": false,
     "start_time": "2023-02-27T15:59:23.403056",
     "status": "completed"
    },
    "tags": []
   },
   "outputs": [
    {
     "data": {
      "text/plain": [
       "device(type='cuda')"
      ]
     },
     "execution_count": 15,
     "metadata": {},
     "output_type": "execute_result"
    }
   ],
   "source": [
    "# now, for the model\n",
    "device = torch.device('cuda' if torch.cuda.is_available() else 'cpu')\n",
    "device"
   ]
  },
  {
   "cell_type": "code",
   "execution_count": 16,
   "id": "63005506",
   "metadata": {
    "execution": {
     "iopub.execute_input": "2023-02-27T15:59:23.548087Z",
     "iopub.status.busy": "2023-02-27T15:59:23.547392Z",
     "iopub.status.idle": "2023-02-27T15:59:39.900099Z",
     "shell.execute_reply": "2023-02-27T15:59:39.899192Z",
     "shell.execute_reply.started": "2023-02-27T15:41:31.607376Z"
    },
    "papermill": {
     "duration": 16.378856,
     "end_time": "2023-02-27T15:59:39.900240",
     "exception": false,
     "start_time": "2023-02-27T15:59:23.521384",
     "status": "completed"
    },
    "tags": []
   },
   "outputs": [],
   "source": [
    "#model = torch.hub.load('facebookresearch/deit:main', 'deit_tiny_patch16_224', pretrained=True)\n",
    "model = timm.create_model(\"vit_base_patch16_224\", pretrained=True)"
   ]
  },
  {
   "cell_type": "code",
   "execution_count": 17,
   "id": "fa312428",
   "metadata": {
    "execution": {
     "iopub.execute_input": "2023-02-27T15:59:39.947056Z",
     "iopub.status.busy": "2023-02-27T15:59:39.946379Z",
     "iopub.status.idle": "2023-02-27T15:59:43.352666Z",
     "shell.execute_reply": "2023-02-27T15:59:43.352178Z",
     "shell.execute_reply.started": "2023-02-27T15:41:51.400256Z"
    },
    "papermill": {
     "duration": 3.431982,
     "end_time": "2023-02-27T15:59:43.352803",
     "exception": false,
     "start_time": "2023-02-27T15:59:39.920821",
     "status": "completed"
    },
    "tags": []
   },
   "outputs": [
    {
     "name": "stdout",
     "output_type": "stream",
     "text": [
      "Sequential(\n",
      "  (0): Linear(in_features=768, out_features=512, bias=True)\n",
      "  (1): ReLU()\n",
      "  (2): Dropout(p=0.3, inplace=False)\n",
      "  (3): Linear(in_features=512, out_features=100, bias=True)\n",
      ")\n"
     ]
    }
   ],
   "source": [
    "for param in model.parameters(): #freeze model\n",
    "    param.requires_grad = False\n",
    "\n",
    "n_inputs = model.head.in_features\n",
    "model.head = nn.Sequential(\n",
    "    nn.Linear(n_inputs, 512),\n",
    "    nn.ReLU(),\n",
    "    nn.Dropout(0.3),\n",
    "    nn.Linear(512, len(classes))\n",
    ")\n",
    "model = model.to(device)\n",
    "print(model.head)"
   ]
  },
  {
   "cell_type": "code",
   "execution_count": 18,
   "id": "d52093e0",
   "metadata": {
    "execution": {
     "iopub.execute_input": "2023-02-27T15:59:43.397674Z",
     "iopub.status.busy": "2023-02-27T15:59:43.397125Z",
     "iopub.status.idle": "2023-02-27T15:59:43.400822Z",
     "shell.execute_reply": "2023-02-27T15:59:43.400352Z",
     "shell.execute_reply.started": "2023-02-27T15:42:48.270565Z"
    },
    "papermill": {
     "duration": 0.027703,
     "end_time": "2023-02-27T15:59:43.400935",
     "exception": false,
     "start_time": "2023-02-27T15:59:43.373232",
     "status": "completed"
    },
    "tags": []
   },
   "outputs": [],
   "source": [
    "criterion = LabelSmoothingCrossEntropy()\n",
    "criterion = criterion.to(device)\n",
    "#optimizer = optim.Adam(model.head.parameters(), lr=0.001)"
   ]
  },
  {
   "cell_type": "code",
   "execution_count": 19,
   "id": "948c5dfa",
   "metadata": {
    "execution": {
     "iopub.execute_input": "2023-02-27T15:59:43.445687Z",
     "iopub.status.busy": "2023-02-27T15:59:43.444885Z",
     "iopub.status.idle": "2023-02-27T15:59:43.446964Z",
     "shell.execute_reply": "2023-02-27T15:59:43.447337Z",
     "shell.execute_reply.started": "2023-02-09T16:29:22.770661Z"
    },
    "papermill": {
     "duration": 0.026008,
     "end_time": "2023-02-27T15:59:43.447502",
     "exception": false,
     "start_time": "2023-02-27T15:59:43.421494",
     "status": "completed"
    },
    "tags": []
   },
   "outputs": [],
   "source": [
    "# lr scheduler\n",
    "#exp_lr_scheduler = optim.lr_scheduler.StepLR(optimizer, step_size=3, gamma=0.97)"
   ]
  },
  {
   "cell_type": "code",
   "execution_count": 20,
   "id": "5e4f001d",
   "metadata": {
    "execution": {
     "iopub.execute_input": "2023-02-27T15:59:43.498918Z",
     "iopub.status.busy": "2023-02-27T15:59:43.495440Z",
     "iopub.status.idle": "2023-02-27T15:59:43.501272Z",
     "shell.execute_reply": "2023-02-27T15:59:43.500831Z",
     "shell.execute_reply.started": "2023-02-27T15:43:04.429646Z"
    },
    "papermill": {
     "duration": 0.033705,
     "end_time": "2023-02-27T15:59:43.501379",
     "exception": false,
     "start_time": "2023-02-27T15:59:43.467674",
     "status": "completed"
    },
    "tags": []
   },
   "outputs": [],
   "source": [
    "def train_model(model, criterion, num_epochs=10):\n",
    "    since = time.time()\n",
    "    best_model_wts = copy.deepcopy(model.state_dict())\n",
    "    best_acc = 0.0\n",
    "    \n",
    "    optimizer = timm.optim.AdamP(model.head.parameters(), lr=0.001)\n",
    "    scheduler = timm.scheduler.CosineLRScheduler(optimizer, t_initial=num_epochs)\n",
    "    \n",
    "    for epoch in range(num_epochs):\n",
    "        print(f'Epoch {epoch}/{num_epochs - 1}')\n",
    "        print(\"-\"*10)\n",
    "        \n",
    "        for phase in ['train', 'val']: # We do training and validation phase per epoch\n",
    "            if phase == 'train':\n",
    "                model.train() # model to training mode\n",
    "            else:\n",
    "                model.eval() # model to evaluate\n",
    "            \n",
    "            running_loss = 0.0\n",
    "            running_corrects = 0.0\n",
    "            \n",
    "            for inputs, labels in tqdm(dataloaders[phase]):\n",
    "                inputs = inputs.to(device)\n",
    "                labels = labels.to(device)\n",
    "                \n",
    "                optimizer.zero_grad()\n",
    "                \n",
    "                with torch.set_grad_enabled(phase == 'train'): # no autograd makes validation go faster\n",
    "                    outputs = model(inputs)\n",
    "                    _, preds = torch.max(outputs, 1) # used for accuracy\n",
    "                    loss = criterion(outputs, labels)\n",
    "                    \n",
    "                    if phase == 'train':\n",
    "                        loss.backward()\n",
    "                        optimizer.step()\n",
    "                running_loss += loss.item() * inputs.size(0)\n",
    "                running_corrects += torch.sum(preds == labels.data)\n",
    "                \n",
    "            if phase == 'train':\n",
    "                scheduler.step(epoch) # step at end of epoch\n",
    "            \n",
    "            epoch_loss = running_loss / dataset_sizes[phase]\n",
    "            epoch_acc =  running_corrects.double() / dataset_sizes[phase]\n",
    "            \n",
    "            print(\"{} Loss: {:.4f} Acc: {:.4f}\".format(phase, epoch_loss, epoch_acc))\n",
    "            \n",
    "            if phase == 'val' and epoch_acc > best_acc:\n",
    "                best_acc = epoch_acc\n",
    "                best_model_wts = copy.deepcopy(model.state_dict()) # keep the best validation accuracy model\n",
    "        print()\n",
    "    time_elapsed = time.time() - since # slight error\n",
    "    print('Training complete in {:.0f}m {:.0f}s'.format(time_elapsed // 60, time_elapsed % 60))\n",
    "    print(\"Best Val Acc: {:.4f}\".format(best_acc))\n",
    "    \n",
    "    model.load_state_dict(best_model_wts)\n",
    "    return model"
   ]
  },
  {
   "cell_type": "code",
   "execution_count": 21,
   "id": "2e5dbe1c",
   "metadata": {
    "execution": {
     "iopub.execute_input": "2023-02-27T15:59:43.545262Z",
     "iopub.status.busy": "2023-02-27T15:59:43.544549Z",
     "iopub.status.idle": "2023-02-27T16:13:38.902059Z",
     "shell.execute_reply": "2023-02-27T16:13:38.902521Z",
     "shell.execute_reply.started": "2023-02-27T15:43:08.392507Z"
    },
    "papermill": {
     "duration": 835.381306,
     "end_time": "2023-02-27T16:13:38.902770",
     "exception": false,
     "start_time": "2023-02-27T15:59:43.521464",
     "status": "completed"
    },
    "tags": []
   },
   "outputs": [
    {
     "name": "stdout",
     "output_type": "stream",
     "text": [
      "Epoch 0/9\n",
      "----------\n"
     ]
    },
    {
     "name": "stderr",
     "output_type": "stream",
     "text": [
      "100%|██████████| 99/99 [01:26<00:00,  1.15it/s]\n"
     ]
    },
    {
     "name": "stdout",
     "output_type": "stream",
     "text": [
      "train Loss: 1.8870 Acc: 0.7060\n"
     ]
    },
    {
     "name": "stderr",
     "output_type": "stream",
     "text": [
      "100%|██████████| 16/16 [00:04<00:00,  3.86it/s]\n"
     ]
    },
    {
     "name": "stdout",
     "output_type": "stream",
     "text": [
      "val Loss: 1.1799 Acc: 0.9140\n",
      "\n",
      "Epoch 1/9\n",
      "----------\n"
     ]
    },
    {
     "name": "stderr",
     "output_type": "stream",
     "text": [
      "100%|██████████| 99/99 [01:18<00:00,  1.26it/s]\n"
     ]
    },
    {
     "name": "stdout",
     "output_type": "stream",
     "text": [
      "train Loss: 1.2159 Acc: 0.9057\n"
     ]
    },
    {
     "name": "stderr",
     "output_type": "stream",
     "text": [
      "100%|██████████| 16/16 [00:03<00:00,  4.09it/s]\n"
     ]
    },
    {
     "name": "stdout",
     "output_type": "stream",
     "text": [
      "val Loss: 1.0904 Acc: 0.9360\n",
      "\n",
      "Epoch 2/9\n",
      "----------\n"
     ]
    },
    {
     "name": "stderr",
     "output_type": "stream",
     "text": [
      "100%|██████████| 99/99 [01:18<00:00,  1.26it/s]\n"
     ]
    },
    {
     "name": "stdout",
     "output_type": "stream",
     "text": [
      "train Loss: 1.1327 Acc: 0.9318\n"
     ]
    },
    {
     "name": "stderr",
     "output_type": "stream",
     "text": [
      "100%|██████████| 16/16 [00:03<00:00,  4.00it/s]\n"
     ]
    },
    {
     "name": "stdout",
     "output_type": "stream",
     "text": [
      "val Loss: 1.0675 Acc: 0.9580\n",
      "\n",
      "Epoch 3/9\n",
      "----------\n"
     ]
    },
    {
     "name": "stderr",
     "output_type": "stream",
     "text": [
      "100%|██████████| 99/99 [01:18<00:00,  1.26it/s]\n"
     ]
    },
    {
     "name": "stdout",
     "output_type": "stream",
     "text": [
      "train Loss: 1.0822 Acc: 0.9477\n"
     ]
    },
    {
     "name": "stderr",
     "output_type": "stream",
     "text": [
      "100%|██████████| 16/16 [00:03<00:00,  4.10it/s]\n"
     ]
    },
    {
     "name": "stdout",
     "output_type": "stream",
     "text": [
      "val Loss: 1.0272 Acc: 0.9580\n",
      "\n",
      "Epoch 4/9\n",
      "----------\n"
     ]
    },
    {
     "name": "stderr",
     "output_type": "stream",
     "text": [
      "100%|██████████| 99/99 [01:19<00:00,  1.25it/s]\n"
     ]
    },
    {
     "name": "stdout",
     "output_type": "stream",
     "text": [
      "train Loss: 1.0430 Acc: 0.9585\n"
     ]
    },
    {
     "name": "stderr",
     "output_type": "stream",
     "text": [
      "100%|██████████| 16/16 [00:03<00:00,  4.13it/s]\n"
     ]
    },
    {
     "name": "stdout",
     "output_type": "stream",
     "text": [
      "val Loss: 1.0206 Acc: 0.9540\n",
      "\n",
      "Epoch 5/9\n",
      "----------\n"
     ]
    },
    {
     "name": "stderr",
     "output_type": "stream",
     "text": [
      "100%|██████████| 99/99 [01:18<00:00,  1.26it/s]\n"
     ]
    },
    {
     "name": "stdout",
     "output_type": "stream",
     "text": [
      "train Loss: 1.0179 Acc: 0.9656\n"
     ]
    },
    {
     "name": "stderr",
     "output_type": "stream",
     "text": [
      "100%|██████████| 16/16 [00:04<00:00,  3.83it/s]\n"
     ]
    },
    {
     "name": "stdout",
     "output_type": "stream",
     "text": [
      "val Loss: 1.0189 Acc: 0.9560\n",
      "\n",
      "Epoch 6/9\n",
      "----------\n"
     ]
    },
    {
     "name": "stderr",
     "output_type": "stream",
     "text": [
      "100%|██████████| 99/99 [01:18<00:00,  1.26it/s]\n"
     ]
    },
    {
     "name": "stdout",
     "output_type": "stream",
     "text": [
      "train Loss: 0.9934 Acc: 0.9734\n"
     ]
    },
    {
     "name": "stderr",
     "output_type": "stream",
     "text": [
      "100%|██████████| 16/16 [00:03<00:00,  4.09it/s]\n"
     ]
    },
    {
     "name": "stdout",
     "output_type": "stream",
     "text": [
      "val Loss: 1.0053 Acc: 0.9560\n",
      "\n",
      "Epoch 7/9\n",
      "----------\n"
     ]
    },
    {
     "name": "stderr",
     "output_type": "stream",
     "text": [
      "100%|██████████| 99/99 [01:18<00:00,  1.26it/s]\n"
     ]
    },
    {
     "name": "stdout",
     "output_type": "stream",
     "text": [
      "train Loss: 0.9717 Acc: 0.9767\n"
     ]
    },
    {
     "name": "stderr",
     "output_type": "stream",
     "text": [
      "100%|██████████| 16/16 [00:03<00:00,  4.08it/s]\n"
     ]
    },
    {
     "name": "stdout",
     "output_type": "stream",
     "text": [
      "val Loss: 0.9892 Acc: 0.9640\n",
      "\n",
      "Epoch 8/9\n",
      "----------\n"
     ]
    },
    {
     "name": "stderr",
     "output_type": "stream",
     "text": [
      "100%|██████████| 99/99 [01:18<00:00,  1.26it/s]\n"
     ]
    },
    {
     "name": "stdout",
     "output_type": "stream",
     "text": [
      "train Loss: 0.9583 Acc: 0.9801\n"
     ]
    },
    {
     "name": "stderr",
     "output_type": "stream",
     "text": [
      "100%|██████████| 16/16 [00:03<00:00,  4.04it/s]\n"
     ]
    },
    {
     "name": "stdout",
     "output_type": "stream",
     "text": [
      "val Loss: 0.9874 Acc: 0.9640\n",
      "\n",
      "Epoch 9/9\n",
      "----------\n"
     ]
    },
    {
     "name": "stderr",
     "output_type": "stream",
     "text": [
      "100%|██████████| 99/99 [01:19<00:00,  1.25it/s]\n"
     ]
    },
    {
     "name": "stdout",
     "output_type": "stream",
     "text": [
      "train Loss: 0.9499 Acc: 0.9828\n"
     ]
    },
    {
     "name": "stderr",
     "output_type": "stream",
     "text": [
      "100%|██████████| 16/16 [00:04<00:00,  3.97it/s]"
     ]
    },
    {
     "name": "stdout",
     "output_type": "stream",
     "text": [
      "val Loss: 0.9818 Acc: 0.9700\n",
      "\n",
      "Training complete in 13m 55s\n",
      "Best Val Acc: 0.9700\n"
     ]
    },
    {
     "name": "stderr",
     "output_type": "stream",
     "text": [
      "\n"
     ]
    }
   ],
   "source": [
    "model_ft = train_model(model, criterion) # now it is a lot faster\n",
    "# I will come back after 10 epochs"
   ]
  },
  {
   "cell_type": "markdown",
   "id": "84b952f1",
   "metadata": {
    "papermill": {
     "duration": 0.308077,
     "end_time": "2023-02-27T16:13:39.518243",
     "exception": false,
     "start_time": "2023-02-27T16:13:39.210166",
     "status": "completed"
    },
    "tags": []
   },
   "source": [
    "## Testing\n",
    "\n",
    "Ok, now we finished training. Lets run the dataset on the test loader and calculate accuracy"
   ]
  },
  {
   "cell_type": "code",
   "execution_count": 22,
   "id": "9588b5fe",
   "metadata": {
    "execution": {
     "iopub.execute_input": "2023-02-27T16:13:40.147212Z",
     "iopub.status.busy": "2023-02-27T16:13:40.146257Z",
     "iopub.status.idle": "2023-02-27T16:13:40.148144Z",
     "shell.execute_reply": "2023-02-27T16:13:40.148586Z",
     "shell.execute_reply.started": "2023-02-09T16:33:19.444819Z"
    },
    "papermill": {
     "duration": 0.324685,
     "end_time": "2023-02-27T16:13:40.148742",
     "exception": false,
     "start_time": "2023-02-27T16:13:39.824057",
     "status": "completed"
    },
    "tags": []
   },
   "outputs": [],
   "source": [
    "# anyways, we can use model, for it is also updated witht he latest weights"
   ]
  },
  {
   "cell_type": "code",
   "execution_count": 23,
   "id": "3009f074",
   "metadata": {
    "execution": {
     "iopub.execute_input": "2023-02-27T16:13:40.774195Z",
     "iopub.status.busy": "2023-02-27T16:13:40.773167Z",
     "iopub.status.idle": "2023-02-27T16:13:44.868498Z",
     "shell.execute_reply": "2023-02-27T16:13:44.868005Z",
     "shell.execute_reply.started": "2023-02-27T15:57:34.263702Z"
    },
    "papermill": {
     "duration": 4.413298,
     "end_time": "2023-02-27T16:13:44.868635",
     "exception": false,
     "start_time": "2023-02-27T16:13:40.455337",
     "status": "completed"
    },
    "tags": []
   },
   "outputs": [
    {
     "name": "stderr",
     "output_type": "stream",
     "text": [
      "100%|██████████| 16/16 [00:04<00:00,  3.93it/s]"
     ]
    },
    {
     "name": "stdout",
     "output_type": "stream",
     "text": [
      "Test Loss: 0.0456\n",
      "Test Accuracy of ADONIS: 100% ( 5/ 5)\n",
      "Test Accuracy of AFRICAN GIANT SWALLOWTAIL: 100% ( 5/ 5)\n",
      "Test Accuracy of AMERICAN SNOOT: 100% ( 5/ 5)\n",
      "Test Accuracy of AN 88: 100% ( 4/ 4)\n",
      "Test Accuracy of APPOLLO: 100% ( 5/ 5)\n",
      "Test Accuracy of ARCIGERA FLOWER MOTH: 100% ( 5/ 5)\n",
      "Test Accuracy of ATALA: 100% ( 5/ 5)\n",
      "Test Accuracy of ATLAS MOTH: 100% ( 5/ 5)\n",
      "Test Accuracy of BANDED ORANGE HELICONIAN: 100% ( 5/ 5)\n",
      "Test Accuracy of BANDED PEACOCK: 100% ( 5/ 5)\n",
      "Test Accuracy of BANDED TIGER MOTH: 100% ( 4/ 4)\n",
      "Test Accuracy of BECKERS WHITE: 100% ( 5/ 5)\n",
      "Test Accuracy of BIRD CHERRY ERMINE MOTH: 100% ( 4/ 4)\n",
      "Test Accuracy of BLACK HAIRSTREAK: 100% ( 5/ 5)\n",
      "Test Accuracy of BLUE MORPHO: 100% ( 5/ 5)\n",
      "Test Accuracy of BLUE SPOTTED CROW: 100% ( 4/ 4)\n",
      "Test Accuracy of BROOKES BIRDWING: 100% ( 5/ 5)\n",
      "Test Accuracy of BROWN ARGUS: 100% ( 5/ 5)\n",
      "Test Accuracy of BROWN SIPROETA: 100% ( 5/ 5)\n",
      "Test Accuracy of CABBAGE WHITE: 100% ( 5/ 5)\n",
      "Test Accuracy of CAIRNS BIRDWING: 100% ( 5/ 5)\n",
      "Test Accuracy of CHALK HILL BLUE: 100% ( 5/ 5)\n",
      "Test Accuracy of CHECQUERED SKIPPER: 100% ( 5/ 5)\n",
      "Test Accuracy of CHESTNUT: 100% ( 5/ 5)\n",
      "Test Accuracy of CINNABAR MOTH: 100% ( 5/ 5)\n",
      "Test Accuracy of CLEARWING MOTH: 60% ( 3/ 5)\n",
      "Test Accuracy of CLEOPATRA: 100% ( 5/ 5)\n",
      "Test Accuracy of CLODIUS PARNASSIAN: 100% ( 5/ 5)\n",
      "Test Accuracy of CLOUDED SULPHUR: 100% ( 5/ 5)\n",
      "Test Accuracy of COMET MOTH: 100% ( 5/ 5)\n",
      "Test Accuracy of COMMON BANDED AWL: 100% ( 4/ 4)\n",
      "Test Accuracy of COMMON WOOD-NYMPH: 100% ( 5/ 5)\n",
      "Test Accuracy of COPPER TAIL: 80% ( 4/ 5)\n",
      "Test Accuracy of CRECENT: 100% ( 3/ 3)\n",
      "Test Accuracy of CRIMSON PATCH: 100% ( 3/ 3)\n",
      "Test Accuracy of DANAID EGGFLY: 100% ( 5/ 5)\n",
      "Test Accuracy of EASTERN COMA: 100% ( 5/ 5)\n",
      "Test Accuracy of EASTERN DAPPLE WHITE: 80% ( 4/ 5)\n",
      "Test Accuracy of EASTERN PINE ELFIN: 100% ( 5/ 5)\n",
      "Test Accuracy of ELBOWED PIERROT: 100% ( 5/ 5)\n",
      "Test Accuracy of EMPEROR GUM MOTH: 100% ( 5/ 5)\n",
      "Test Accuracy of GARDEN TIGER MOTH: 100% ( 5/ 5)\n",
      "Test Accuracy of GIANT LEOPARD MOTH: 100% ( 5/ 5)\n",
      "Test Accuracy of GLITTERING SAPPHIRE: 100% ( 5/ 5)\n",
      "Test Accuracy of GOLD BANDED: 100% ( 4/ 4)\n",
      "Test Accuracy of GREAT EGGFLY: 80% ( 4/ 5)\n",
      "Test Accuracy of GREAT JAY: 100% ( 4/ 4)\n",
      "Test Accuracy of GREEN CELLED CATTLEHEART: 80% ( 4/ 5)\n",
      "Test Accuracy of GREEN HAIRSTREAK: 100% ( 4/ 4)\n",
      "Test Accuracy of GREY HAIRSTREAK: 100% ( 5/ 5)\n",
      "Test Accuracy of HERCULES MOTH: 100% ( 4/ 4)\n",
      "Test Accuracy of HUMMING BIRD HAWK MOTH: 100% ( 4/ 4)\n",
      "Test Accuracy of INDRA SWALLOW: 100% ( 5/ 5)\n",
      "Test Accuracy of IO MOTH: 100% ( 5/ 5)\n",
      "Test Accuracy of Iphiclus sister: 100% ( 5/ 5)\n",
      "Test Accuracy of JULIA: 100% ( 5/ 5)\n",
      "Test Accuracy of LARGE MARBLE: 100% ( 5/ 5)\n",
      "Test Accuracy of LUNA MOTH: 100% ( 5/ 5)\n",
      "Test Accuracy of MADAGASCAN SUNSET MOTH: 100% ( 5/ 5)\n",
      "Test Accuracy of MALACHITE: 100% ( 5/ 5)\n",
      "Test Accuracy of MANGROVE SKIPPER: 100% ( 5/ 5)\n",
      "Test Accuracy of MESTRA: 80% ( 4/ 5)\n",
      "Test Accuracy of METALMARK: 100% ( 5/ 5)\n",
      "Test Accuracy of MILBERTS TORTOISESHELL: 80% ( 4/ 5)\n",
      "Test Accuracy of MONARCH: 100% ( 4/ 4)\n",
      "Test Accuracy of MOURNING CLOAK: 100% ( 5/ 5)\n",
      "Test Accuracy of OLEANDER HAWK MOTH: 100% ( 5/ 5)\n",
      "Test Accuracy of ORANGE OAKLEAF: 100% ( 5/ 5)\n",
      "Test Accuracy of ORANGE TIP: 100% ( 5/ 5)\n",
      "Test Accuracy of ORCHARD SWALLOW: 100% ( 5/ 5)\n",
      "Test Accuracy of PAINTED LADY: 100% ( 4/ 4)\n",
      "Test Accuracy of PAPER KITE: 100% ( 5/ 5)\n",
      "Test Accuracy of PEACOCK: 100% ( 5/ 5)\n",
      "Test Accuracy of PINE WHITE: 100% ( 5/ 5)\n",
      "Test Accuracy of PIPEVINE SWALLOW: 100% ( 5/ 5)\n",
      "Test Accuracy of POLYPHEMUS MOTH: 100% ( 5/ 5)\n",
      "Test Accuracy of POPINJAY: 100% ( 5/ 5)\n",
      "Test Accuracy of PURPLE HAIRSTREAK: 100% ( 5/ 5)\n",
      "Test Accuracy of PURPLISH COPPER: 80% ( 4/ 5)\n",
      "Test Accuracy of QUESTION MARK: 100% ( 5/ 5)\n",
      "Test Accuracy of RED ADMIRAL: 100% ( 5/ 5)\n",
      "Test Accuracy of RED CRACKER: 100% ( 5/ 5)\n",
      "Test Accuracy of RED POSTMAN: 100% ( 5/ 5)\n",
      "Test Accuracy of RED SPOTTED PURPLE: 100% ( 5/ 5)\n",
      "Test Accuracy of ROSY MAPLE MOTH: 100% ( 4/ 4)\n",
      "Test Accuracy of SCARCE SWALLOW: 100% ( 5/ 5)\n",
      "Test Accuracy of SILVER SPOT SKIPPER: 100% ( 5/ 5)\n",
      "Test Accuracy of SIXSPOT BURNET MOTH: 100% ( 4/ 4)\n",
      "Test Accuracy of SLEEPY ORANGE: 80% ( 4/ 5)\n",
      "Test Accuracy of SOOTYWING: 100% ( 5/ 5)\n",
      "Test Accuracy of SOUTHERN DOGFACE: 100% ( 5/ 5)\n",
      "Test Accuracy of STRAITED QUEEN: 100% ( 5/ 5)\n",
      "Test Accuracy of TROPICAL LEAFWING: 100% ( 5/ 5)\n",
      "Test Accuracy of TWO BARRED FLASHER: 100% ( 5/ 5)\n",
      "Test Accuracy of ULYSES: 80% ( 4/ 5)\n",
      "Test Accuracy of VICEROY: 100% ( 5/ 5)\n",
      "Test Accuracy of WHITE LINED SPHINX MOTH: 100% ( 5/ 5)\n",
      "Test Accuracy of WOOD SATYR: 100% ( 5/ 5)\n",
      "Test Accuracy of YELLOW SWALLOW TAIL: 100% ( 4/ 4)\n",
      "Test Accuracy of ZEBRA LONG WING: 100% ( 4/ 4)\n",
      "Test Accuracy of 97% (469/480)\n"
     ]
    },
    {
     "name": "stderr",
     "output_type": "stream",
     "text": [
      "\n"
     ]
    }
   ],
   "source": [
    "test_loss = 0.0\n",
    "class_correct = list(0 for i in range(len(classes)))\n",
    "class_total = list(0 for i in range(len(classes)))\n",
    "model_ft.eval()\n",
    "\n",
    "for data, target in tqdm(test_loader):\n",
    "    data, target = data.to(device), target.to(device)\n",
    "    with torch.no_grad(): # turn off autograd for faster testing\n",
    "        output = model_ft(data)\n",
    "        loss = criterion(output, target)\n",
    "    test_loss = loss.item() * data.size(0)\n",
    "    _, pred = torch.max(output, 1)\n",
    "    correct_tensor = pred.eq(target.data.view_as(pred))\n",
    "    correct = np.squeeze(correct_tensor.cpu().numpy())\n",
    "    if len(target) == 32:\n",
    "        for i in range(32):\n",
    "            label = target.data[i]\n",
    "            class_correct[label] += correct[i].item()\n",
    "            class_total[label] += 1\n",
    "\n",
    "test_loss = test_loss / test_data_len\n",
    "print('Test Loss: {:.4f}'.format(test_loss))\n",
    "for i in range(len(classes)):\n",
    "    if class_total[i] > 0:\n",
    "        print(\"Test Accuracy of %5s: %2d%% (%2d/%2d)\" % (\n",
    "            classes[i], 100*class_correct[i]/class_total[i], np.sum(class_correct[i]), np.sum(class_total[i])\n",
    "        ))\n",
    "    else:\n",
    "        print(\"Test accuracy of %5s: NA\" % (classes[i]))\n",
    "print(\"Test Accuracy of %2d%% (%2d/%2d)\" % (\n",
    "            100*np.sum(class_correct)/np.sum(class_total), np.sum(class_correct), np.sum(class_total)\n",
    "        ))"
   ]
  },
  {
   "cell_type": "code",
   "execution_count": 24,
   "id": "ade93858",
   "metadata": {
    "execution": {
     "iopub.execute_input": "2023-02-27T16:13:45.502972Z",
     "iopub.status.busy": "2023-02-27T16:13:45.502182Z",
     "iopub.status.idle": "2023-02-27T16:13:50.864918Z",
     "shell.execute_reply": "2023-02-27T16:13:50.864384Z",
     "shell.execute_reply.started": "2023-02-27T15:57:51.818030Z"
    },
    "papermill": {
     "duration": 5.683759,
     "end_time": "2023-02-27T16:13:50.865054",
     "exception": false,
     "start_time": "2023-02-27T16:13:45.181295",
     "status": "completed"
    },
    "tags": []
   },
   "outputs": [],
   "source": [
    "# our model earns 93% test accuracy, which is very high. lets save it\n",
    "example = torch.rand(1, 3, 224, 224)\n",
    "traced_script_module = torch.jit.trace(model.cpu(), example)\n",
    "traced_script_module.save(\"butterfly_deit_video.pt\")"
   ]
  },
  {
   "cell_type": "code",
   "execution_count": 25,
   "id": "9baad0fa",
   "metadata": {
    "execution": {
     "iopub.execute_input": "2023-02-27T16:13:51.491574Z",
     "iopub.status.busy": "2023-02-27T16:13:51.490690Z",
     "iopub.status.idle": "2023-02-27T16:13:51.492990Z",
     "shell.execute_reply": "2023-02-27T16:13:51.492456Z",
     "shell.execute_reply.started": "2023-02-09T16:33:23.754535Z"
    },
    "papermill": {
     "duration": 0.316614,
     "end_time": "2023-02-27T16:13:51.493116",
     "exception": false,
     "start_time": "2023-02-27T16:13:51.176502",
     "status": "completed"
    },
    "tags": []
   },
   "outputs": [],
   "source": [
    "# That's it for this video, see you next time"
   ]
  }
 ],
 "metadata": {
  "kernelspec": {
   "display_name": "Python 3",
   "language": "python",
   "name": "python3"
  },
  "language_info": {
   "codemirror_mode": {
    "name": "ipython",
    "version": 3
   },
   "file_extension": ".py",
   "mimetype": "text/x-python",
   "name": "python",
   "nbconvert_exporter": "python",
   "pygments_lexer": "ipython3",
   "version": "3.7.12"
  },
  "papermill": {
   "default_parameters": {},
   "duration": 895.887034,
   "end_time": "2023-02-27T16:13:54.486506",
   "environment_variables": {},
   "exception": null,
   "input_path": "__notebook__.ipynb",
   "output_path": "__notebook__.ipynb",
   "parameters": {},
   "start_time": "2023-02-27T15:58:58.599472",
   "version": "2.3.3"
  }
 },
 "nbformat": 4,
 "nbformat_minor": 5
}
